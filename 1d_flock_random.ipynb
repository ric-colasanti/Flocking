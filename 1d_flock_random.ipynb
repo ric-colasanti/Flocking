{
 "cells": [
  {
   "cell_type": "code",
   "execution_count": 22,
   "id": "499bfd34-8fdb-4e90-8112-d3a5bfba6d9c",
   "metadata": {},
   "outputs": [],
   "source": [
    "import math\n",
    "import matplotlib.pyplot as plt\n",
    "import random as rnd\n",
    "import numpy as np\n",
    "import networkx as nx\n",
    "\n",
    "from scipy.optimize import curve_fit\n",
    "import warnings\n",
    "warnings.filterwarnings('ignore')"
   ]
  },
  {
   "cell_type": "code",
   "execution_count": 48,
   "id": "eaf144c0-6c52-4bd7-8f60-c8d2358882a9",
   "metadata": {},
   "outputs": [],
   "source": [
    "class Agent:\n",
    "    def __init__(self):\n",
    "        self.pos = 60\n",
    "        self.links =[]\n",
    "        \n",
    "    def add_edge(self,agent):\n",
    "        if agent != self:\n",
    "            if agent not in self.links:\n",
    "                self.links.append(agent) \n",
    "                \n",
    "    def diffuse(self,mean,linked_mean =True ):\n",
    "        if (len(self.links) and linked_mean)>0:\n",
    "            mean = 0\n",
    "            for a in self.links:\n",
    "                mean+=a.pos\n",
    "            mean=mean/len(self.links)\n",
    "        # random daly change    \n",
    "        new_move = rnd.randint(-1000,1000)/10000\n",
    "        # if too far from mean move in opposite direction\n",
    "        if rnd.random()<0:#((abs(self.pos-mean))/mean):\n",
    "            if self.pos-mean<0:\n",
    "                new_move = rnd.random()*0.1\n",
    "            else:\n",
    "                new_move = -rnd.random()*0.1\n",
    "        self.pos+=new_move"
   ]
  },
  {
   "cell_type": "code",
   "execution_count": 49,
   "id": "c3356f3d-5b10-4457-93a8-f350dda0c651",
   "metadata": {},
   "outputs": [],
   "source": [
    "def test_agent():\n",
    "    test_agent = Agent()\n",
    "    for _ in range(10):\n",
    "        test_agent.diffuse()\n",
    "        print(test_agent.pos)"
   ]
  },
  {
   "cell_type": "code",
   "execution_count": null,
   "id": "45ef94da-05d2-4822-9cc8-ea765b8dff4f",
   "metadata": {},
   "outputs": [],
   "source": []
  },
  {
   "cell_type": "code",
   "execution_count": null,
   "id": "f7d777d1-b7e4-47a1-b3be-fea506df74bf",
   "metadata": {},
   "outputs": [],
   "source": [
    "number_of_links = 11\n",
    "bins=[i for i in range(0,121)]\n",
    "\n",
    "population =[Agent() for _ in range(300)]\n",
    "network = nx.erdos_renyi_graph(len(population),number_of_links/len(population))\n",
    "#network = nx.watts_strogatz_graph(len(population),number_of_links,number_of_links/len(population))\n",
    "edges = list(network.edges())\n",
    "for edge in edges:\n",
    "    a1 = population[edge[0]]\n",
    "    a2 = population[edge[1]]\n",
    "    a1.add_edge(a2)\n",
    "    a2.add_edge(a1)\n",
    "mean = 60\n",
    "plots=[]\n",
    "stds=[]\n",
    "for i in range(100000):\n",
    "    count=0\n",
    "    d=[]\n",
    "    for agent in population:\n",
    "        count+=agent.pos\n",
    "        agent.diffuse(mean,linked_mean=False)\n",
    "        d.append(agent.pos)\n",
    "    if i % 10 ==0:\n",
    "        plt.hist([a.pos for a in population],alpha=0.3,edgecolor=\"black\",bins=bins)\n",
    "    mean = count/len(population)\n",
    "    stds.append(np.std(d))\n",
    "plt.show()\n",
    "plt.plot(stds)\n",
    "plt.show()\n",
    "        "
   ]
  },
  {
   "cell_type": "code",
   "execution_count": null,
   "id": "60181362-d61a-4764-94c2-12e81bdb1f04",
   "metadata": {},
   "outputs": [],
   "source": []
  },
  {
   "cell_type": "code",
   "execution_count": 21,
   "id": "e90a1c57-62aa-4bcb-98b6-c145fd5b5e4a",
   "metadata": {},
   "outputs": [
    {
     "name": "stdout",
     "output_type": "stream",
     "text": [
      "0\n",
      "1000\n",
      "2000\n",
      "3000\n"
     ]
    },
    {
     "ename": "KeyboardInterrupt",
     "evalue": "",
     "output_type": "error",
     "traceback": [
      "\u001b[0;31m---------------------------------------------------------------------------\u001b[0m",
      "\u001b[0;31mKeyboardInterrupt\u001b[0m                         Traceback (most recent call last)",
      "Input \u001b[0;32mIn [21]\u001b[0m, in \u001b[0;36m<module>\u001b[0;34m\u001b[0m\n\u001b[1;32m      3\u001b[0m \u001b[38;5;28;01mfor\u001b[39;00m agent \u001b[38;5;129;01min\u001b[39;00m population:\n\u001b[1;32m      4\u001b[0m     count\u001b[38;5;241m+\u001b[39m\u001b[38;5;241m=\u001b[39magent\u001b[38;5;241m.\u001b[39mpos\n\u001b[0;32m----> 5\u001b[0m     \u001b[43magent\u001b[49m\u001b[38;5;241;43m.\u001b[39;49m\u001b[43mdiffuse\u001b[49m\u001b[43m(\u001b[49m\u001b[43mmean\u001b[49m\u001b[43m)\u001b[49m\n\u001b[1;32m      6\u001b[0m \u001b[38;5;28;01mif\u001b[39;00m i \u001b[38;5;241m%\u001b[39m\u001b[38;5;241m1000\u001b[39m \u001b[38;5;241m==\u001b[39m \u001b[38;5;241m0\u001b[39m:\n\u001b[1;32m      7\u001b[0m     \u001b[38;5;28mprint\u001b[39m(i)\n",
      "Input \u001b[0;32mIn [18]\u001b[0m, in \u001b[0;36mAgent.diffuse\u001b[0;34m(self, mean, linked_mean)\u001b[0m\n\u001b[1;32m     13\u001b[0m     mean \u001b[38;5;241m=\u001b[39m \u001b[38;5;241m0\u001b[39m\n\u001b[1;32m     14\u001b[0m     \u001b[38;5;28;01mfor\u001b[39;00m a \u001b[38;5;129;01min\u001b[39;00m \u001b[38;5;28mself\u001b[39m\u001b[38;5;241m.\u001b[39mlinks:\n\u001b[0;32m---> 15\u001b[0m         mean\u001b[38;5;241m+\u001b[39m\u001b[38;5;241m=\u001b[39m\u001b[43ma\u001b[49m\u001b[38;5;241;43m.\u001b[39;49m\u001b[43mpos\u001b[49m\n\u001b[1;32m     16\u001b[0m     mean\u001b[38;5;241m=\u001b[39mmean\u001b[38;5;241m/\u001b[39m\u001b[38;5;28mlen\u001b[39m(\u001b[38;5;28mself\u001b[39m\u001b[38;5;241m.\u001b[39mlinks)\n\u001b[1;32m     17\u001b[0m \u001b[38;5;66;03m# random daly change    \u001b[39;00m\n",
      "\u001b[0;31mKeyboardInterrupt\u001b[0m: "
     ]
    }
   ],
   "source": [
    "for i in range(20000):\n",
    "    count=0\n",
    "    for agent in population:\n",
    "        count+=agent.pos\n",
    "        agent.diffuse(mean)\n",
    "    if i %1000 == 0:\n",
    "        print(i)\n",
    "    mean = count/len(population)\n",
    "data1 = [a.pos for a in population]\n",
    "\n",
    "print(mean)\n",
    "stds=[]\n",
    "for i in range(1000):\n",
    "    count=0\n",
    "    d=[]\n",
    "    for agent in population:\n",
    "        count+=agent.pos\n",
    "        agent.diffuse(mean)\n",
    "        d.append(agent.pos)\n",
    "    mean = count/len(population)\n",
    "    stds.append(np.std(d))\n",
    "plt.plot(stds)\n",
    "plt.show()\n",
    "        \n",
    "data2 = [a.pos for a in population]\n",
    "n1,bins,pat = plt.hist(data1,alpha=0.5,edgecolor=\"black\",bins=bins)\n",
    "n2,bins,pat = plt.hist(data2,alpha=0.5,edgecolor=\"black\",bins=bins)\n",
    "plt.show()"
   ]
  },
  {
   "cell_type": "code",
   "execution_count": 6,
   "id": "97eecdfb-41ad-4727-b172-6a4b0c220b34",
   "metadata": {},
   "outputs": [],
   "source": [
    "print(np.mean(data1),np.std(data1))\n",
    "print(np.mean(data2),np.std(data2))"
   ]
  },
  {
   "cell_type": "code",
   "execution_count": 7,
   "id": "d72e748c-4e65-4d6b-8078-d1aeeb27ee10",
   "metadata": {},
   "outputs": [],
   "source": [
    "xdata = [i for i in range(-60,60)]\n",
    "ydata1 = n2\n",
    "ydata = n1\n",
    "print(len(xdata),len(ydata))\n",
    "  \n",
    "# Recast xdata and ydata into numpy arrays so we can use their handy features\n",
    "xdata = np.asarray(xdata)\n",
    "ydata = np.asarray(ydata)\n",
    "plt.plot(xdata, ydata, 'o')\n",
    "  \n",
    "# Define the Gaussian function\n",
    "def Gauss(x, A, B):\n",
    "    y = A*np.exp(-1*B*x**2)\n",
    "    return y\n",
    "\n",
    "p0 = [1., 1., 1.]\n",
    "fit, covariance = curve_fit(Gauss, xdata,ydata)\n",
    "  \n",
    "fit_A = fit[0]\n",
    "fit_B = fit[1]\n",
    "  \n",
    "fit_y = Gauss(xdata, fit_A, fit_B)\n",
    "plt.title('Fit parameters:\\n x0=%.2e y0=%.2e ' % (fit[0], fit[1]))\n",
    "\n",
    "plt.plot(xdata, ydata1, 'o', label='data')\n",
    "plt.plot(xdata, ydata, 'o', label='data+300') \n",
    "plt.plot(xdata, fit_y, '-', label='fit')\n",
    "plt.legend()\n",
    "\n",
    "\n",
    "\n",
    "absError = fit_y - ydata\n",
    "\n",
    "SE = np.square(absError) # squared errors\n",
    "MSE = np.mean(SE) # mean squared errors\n",
    "RMSE = np.sqrt(MSE) # Root Mean Squared Error, RMSE\n",
    "Rsquared = 1.0 - (np.var(absError) / np.var(ydata))\n",
    "\n",
    "\n",
    "print('RMSE:', RMSE)\n",
    "print('R-squared:', Rsquared)"
   ]
  },
  {
   "cell_type": "code",
   "execution_count": null,
   "id": "49980867-24b5-4c81-9949-7c814de9b0b2",
   "metadata": {},
   "outputs": [],
   "source": []
  }
 ],
 "metadata": {
  "kernelspec": {
   "display_name": "Python 3 (ipykernel)",
   "language": "python",
   "name": "python3"
  },
  "language_info": {
   "codemirror_mode": {
    "name": "ipython",
    "version": 3
   },
   "file_extension": ".py",
   "mimetype": "text/x-python",
   "name": "python",
   "nbconvert_exporter": "python",
   "pygments_lexer": "ipython3",
   "version": "3.9.7"
  }
 },
 "nbformat": 4,
 "nbformat_minor": 5
}
